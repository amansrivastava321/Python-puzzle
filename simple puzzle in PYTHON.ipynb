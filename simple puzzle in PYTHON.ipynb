{
 "cells": [
  {
   "cell_type": "code",
   "execution_count": 102,
   "metadata": {},
   "outputs": [],
   "source": [
    "a = [3, 4, 6, 9, 10, 12, 14, 15, 17, 19, 21]"
   ]
  },
  {
   "cell_type": "code",
   "execution_count": 140,
   "metadata": {},
   "outputs": [],
   "source": [
    "def sec_small (num, a):\n",
    "#Store the first index value in variable \"curr\"\n",
    "    curr = a[0]\n",
    "#for values in the given range else return -1\n",
    "    try:\n",
    "        if num > a[0] and num <= a[10]:\n",
    "            for i in range (len(a)):\n",
    "                if abs (num - a[i]) == 0: \n",
    "                    break;\n",
    "                elif (abs(num - a[i]) < abs (num - curr)) and (a[i] <= num):\n",
    "                    curr = a[i]\n",
    "            return curr\n",
    "        else:\n",
    "            return -1\n",
    "    except(TypeError, NameError,RuntimeError,KeyError,KeyboardInterrupt): \n",
    "        return -1\n",
    "        #pass\n",
    "        #print('-1')"
   ]
  },
  {
   "cell_type": "code",
   "execution_count": 142,
   "metadata": {},
   "outputs": [
    {
     "data": {
      "text/plain": [
       "19"
      ]
     },
     "execution_count": 142,
     "metadata": {},
     "output_type": "execute_result"
    }
   ],
   "source": [
    "sec_small (21, a)"
   ]
  }
 ],
 "metadata": {
  "kernelspec": {
   "display_name": "Python 3",
   "language": "python",
   "name": "python3"
  },
  "language_info": {
   "codemirror_mode": {
    "name": "ipython",
    "version": 3
   },
   "file_extension": ".py",
   "mimetype": "text/x-python",
   "name": "python",
   "nbconvert_exporter": "python",
   "pygments_lexer": "ipython3",
   "version": "3.8.5"
  }
 },
 "nbformat": 4,
 "nbformat_minor": 4
}
